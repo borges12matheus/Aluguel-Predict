{
 "cells": [
  {
   "cell_type": "markdown",
   "id": "75d99370",
   "metadata": {},
   "source": [
    "# Prevendo o preço do aluguel no Rio de Janeiro\n",
    "- A empresa HashMoveis contratou para ajudar a decidir em quais imóveis poderá investir\n",
    "  - Prever qual seria o aluguel desse imóvel pelo airbnb e investir nos imóveis que irão trazer um rápido retorno de investimento"
   ]
  },
  {
   "cell_type": "markdown",
   "id": "df1cbd3a",
   "metadata": {},
   "source": [
    "Principais etapas do projeto:\n",
    "1. Definição do problema\n",
    "2. Entendimento e tratamento de dados\n",
    "3. Análise Exploratória\n",
    "4. Tratamento dos Dados\n",
    "5. Definição do modelo\n",
    "6. Modelo em produção"
   ]
  },
  {
   "cell_type": "markdown",
   "id": "52cd5a01",
   "metadata": {},
   "source": [
    "# Definição do Problema\n",
    "- Para entender o problemam algumas perguntas são fundamentais:\n",
    " - De forma direta: \"Qual o problema que eu quero resolver?\"\n",
    " - Quais são as minhas métricas de sucesso?\n",
    " - Qual o prazo desejado para esse projeto?\n",
    " - Quem são os interessados nesse resultado?\n",
    " - Quais são os **dados** disponíveis"
   ]
  },
  {
   "cell_type": "markdown",
   "id": "7626b958",
   "metadata": {},
   "source": [
    "# Entendimento e tratamento dos dados"
   ]
  },
  {
   "cell_type": "code",
   "execution_count": 126,
   "id": "569d6556",
   "metadata": {},
   "outputs": [],
   "source": [
    "# Importando a base de dados\n",
    "import pandas as pd"
   ]
  },
  {
   "cell_type": "code",
   "execution_count": 127,
   "id": "97614492",
   "metadata": {},
   "outputs": [],
   "source": [
    "# Importando uma base de dados utilizando o pandas\n",
    "dados = pd.read_csv(\"quinto_andar_transformed_data.csv\")"
   ]
  },
  {
   "cell_type": "markdown",
   "id": "2e84ced2",
   "metadata": {},
   "source": [
    "**Importante analisar as informações dos dados .info()**"
   ]
  },
  {
   "cell_type": "code",
   "execution_count": null,
   "id": "09da87df",
   "metadata": {},
   "outputs": [],
   "source": [
    "# Visualizando as informações da base de dados\n",
    "#type(dados)\n",
    "dados.info()"
   ]
  },
  {
   "cell_type": "code",
   "execution_count": null,
   "id": "117f947f",
   "metadata": {},
   "outputs": [],
   "source": [
    "# Verificando valores nulos\n",
    "dados.isnull().sum()"
   ]
  },
  {
   "cell_type": "code",
   "execution_count": null,
   "id": "4375038d",
   "metadata": {
    "scrolled": true
   },
   "outputs": [],
   "source": [
    "#Filtrando esses valores\n",
    "dados[dados.condominio.isnull()]"
   ]
  },
  {
   "cell_type": "code",
   "execution_count": null,
   "id": "08095cf8",
   "metadata": {},
   "outputs": [],
   "source": [
    "# Podemos, por exemplo, acessar esses anúncios\n",
    "dados.url[2287]"
   ]
  },
  {
   "cell_type": "code",
   "execution_count": null,
   "id": "d52181b1",
   "metadata": {},
   "outputs": [],
   "source": [
    "#Selecionando apenas esse coluna\n",
    "dados.loc[dados.condominio.isnull(), 'condominio']"
   ]
  },
  {
   "cell_type": "code",
   "execution_count": 133,
   "id": "6de57070",
   "metadata": {},
   "outputs": [],
   "source": [
    "# Substituindo esses valores por 0\n",
    "dados.loc[dados.condominio.isnull(), 'condominio'] = 0"
   ]
  },
  {
   "cell_type": "code",
   "execution_count": null,
   "id": "68ee4505",
   "metadata": {},
   "outputs": [],
   "source": [
    "# Verificando novamente os valores nulos\n",
    "dados.isnull().sum()"
   ]
  },
  {
   "cell_type": "code",
   "execution_count": null,
   "id": "99aec602",
   "metadata": {},
   "outputs": [],
   "source": [
    "# Fazendo o mesmo processo para iptu\n",
    "#Filtrando esses valores nulos\n",
    "dados[dados.iptu.isnull()]"
   ]
  },
  {
   "cell_type": "code",
   "execution_count": null,
   "id": "6602c15a",
   "metadata": {},
   "outputs": [],
   "source": [
    "dados.url[580]"
   ]
  },
  {
   "cell_type": "code",
   "execution_count": null,
   "id": "f5547df4",
   "metadata": {},
   "outputs": [],
   "source": [
    "# Verificando quantas linhas temos nulas na base\n",
    "dados[dados.iptu.isnull()]"
   ]
  },
  {
   "cell_type": "code",
   "execution_count": 138,
   "id": "1010810e",
   "metadata": {},
   "outputs": [],
   "source": [
    "# Podemos excluir essas linhas que estão sem valor de iptu\n",
    "dados = dados.dropna(axis=0)"
   ]
  },
  {
   "cell_type": "code",
   "execution_count": null,
   "id": "00b9abaf",
   "metadata": {},
   "outputs": [],
   "source": [
    "# Verificando quantas linhas ficamos na base\n",
    "dados.shape"
   ]
  },
  {
   "cell_type": "code",
   "execution_count": null,
   "id": "8166d56c",
   "metadata": {},
   "outputs": [],
   "source": [
    "# Para garantir que não temos valores vazios\n",
    "dados.isnull().sum()"
   ]
  },
  {
   "cell_type": "markdown",
   "id": "ec250eda",
   "metadata": {},
   "source": [
    "**O que é a primeira coluna?**"
   ]
  },
  {
   "cell_type": "markdown",
   "id": "8cfb79bb",
   "metadata": {},
   "source": [
    "Eliminando as colunas desnecessárias"
   ]
  },
  {
   "cell_type": "code",
   "execution_count": null,
   "id": "8536e8d2",
   "metadata": {},
   "outputs": [],
   "source": [
    "# Selecionando a coluna especifica da base\n",
    "dados.url"
   ]
  },
  {
   "cell_type": "code",
   "execution_count": null,
   "id": "37345216",
   "metadata": {},
   "outputs": [],
   "source": [
    "# Eliminando essa coluna\n",
    "dados = dados.drop('url', axis=1)\n",
    "display(dados)"
   ]
  },
  {
   "cell_type": "markdown",
   "id": "48e2865c",
   "metadata": {},
   "source": [
    "## Análise Exploratória de Dados\n",
    "- Nessa etapa, vamos explorar nossa base"
   ]
  },
  {
   "cell_type": "code",
   "execution_count": null,
   "id": "ec1c8ee3",
   "metadata": {},
   "outputs": [],
   "source": [
    "# Relembrando a visualização da base\n",
    "dados.head(3)"
   ]
  },
  {
   "cell_type": "markdown",
   "id": "e8fd99ca",
   "metadata": {},
   "source": [
    "**Muito importante ver o resumo estatístico da base de dados (.describe())**"
   ]
  },
  {
   "cell_type": "code",
   "execution_count": null,
   "id": "21dad59b",
   "metadata": {},
   "outputs": [],
   "source": [
    "# Entendendo os dados estatísticos\n",
    "dados.describe()"
   ]
  },
  {
   "cell_type": "code",
   "execution_count": null,
   "id": "fe2ed303",
   "metadata": {},
   "outputs": [],
   "source": [
    "# Somando todos os valores de aluguel\n",
    "dados.aluguel.sum()"
   ]
  },
  {
   "cell_type": "code",
   "execution_count": null,
   "id": "befbd075",
   "metadata": {},
   "outputs": [],
   "source": [
    "# Contando a quantidade de valores\n",
    "dados.aluguel.count()"
   ]
  },
  {
   "cell_type": "code",
   "execution_count": null,
   "id": "3121d37d",
   "metadata": {},
   "outputs": [],
   "source": [
    "dados.aluguel.sum()/dados.aluguel.count()"
   ]
  },
  {
   "cell_type": "code",
   "execution_count": null,
   "id": "85d0e0f1",
   "metadata": {},
   "outputs": [],
   "source": [
    "# Calculando a media (mean), desvio padrão(std), mínimo (min) e máximo (máx)\n",
    "dados.aluguel.max()"
   ]
  },
  {
   "cell_type": "code",
   "execution_count": null,
   "id": "6cb2dd74",
   "metadata": {},
   "outputs": [],
   "source": [
    "dados.aluguel.median()"
   ]
  },
  {
   "cell_type": "code",
   "execution_count": null,
   "id": "d2975b0b",
   "metadata": {},
   "outputs": [],
   "source": [
    "# Contando o número de registros antes e depois de 1950\n",
    "dados[dados.aluguel >= 1950]"
   ]
  },
  {
   "cell_type": "code",
   "execution_count": null,
   "id": "656dd800",
   "metadata": {},
   "outputs": [],
   "source": [
    "# Verificando 75%\n",
    "dados.aluguel.quantile(0.75)"
   ]
  },
  {
   "cell_type": "code",
   "execution_count": null,
   "id": "00d1c66c",
   "metadata": {},
   "outputs": [],
   "source": [
    "# Plotando um histograma\n",
    "dados.aluguel.hist(bins = 15)"
   ]
  },
  {
   "cell_type": "code",
   "execution_count": null,
   "id": "028e1b91",
   "metadata": {},
   "outputs": [],
   "source": [
    "# Melhorando a plotagem do gráfico\n",
    "import matplotlib.pyplot as plt\n",
    "\n",
    "fig, ax = plt.subplots(figsize=(15,5))\n",
    "ax.hist(dados.aluguel,bins=60, linewidth =0.5, edgecolor=\"white\")\n",
    "ax.set(xlim=(400, 11500), xticks=[500,1400,1950,2746.5,11250])\n",
    "plt.show()"
   ]
  },
  {
   "cell_type": "code",
   "execution_count": null,
   "id": "194b35f3",
   "metadata": {},
   "outputs": [],
   "source": [
    "# Podemos verificar quais os intervalos e números de valores em cada faixa\n",
    "import numpy as np\n",
    "np.histogram(dados.aluguel, bins=60)"
   ]
  },
  {
   "cell_type": "code",
   "execution_count": null,
   "id": "ffda80ea",
   "metadata": {},
   "outputs": [],
   "source": [
    "# Uma outra forma de apresentar os dados\n",
    "dados.aluguel.plot.box(vert=False)"
   ]
  },
  {
   "cell_type": "code",
   "execution_count": null,
   "id": "863fef8d",
   "metadata": {},
   "outputs": [],
   "source": [
    "# Verificando as 10 propriedades de maior valor\n",
    "dados.sort_values('aluguel', ascending=False).head(10)"
   ]
  },
  {
   "cell_type": "code",
   "execution_count": null,
   "id": "beecd97f",
   "metadata": {},
   "outputs": [],
   "source": [
    "# Verificar se tem valores duplicados na base\n",
    "dados[dados.duplicated()]"
   ]
  },
  {
   "cell_type": "code",
   "execution_count": 158,
   "id": "b022b8f3",
   "metadata": {},
   "outputs": [],
   "source": [
    "# Elimando valores duplicados\n",
    "dados = dados.drop_duplicates(keep='last')"
   ]
  },
  {
   "cell_type": "code",
   "execution_count": null,
   "id": "1018439f",
   "metadata": {},
   "outputs": [],
   "source": [
    "# Verificando novamente a base\n",
    "# Verificando as 10 propriedades de maior valor\n",
    "dados.sort_values('aluguel', ascending=False).head(10)"
   ]
  },
  {
   "cell_type": "code",
   "execution_count": null,
   "id": "c35e83cb",
   "metadata": {},
   "outputs": [],
   "source": [
    "#Será que existe relação entre aluguel e metragem?\n",
    "dados.plot.scatter(x='metragem', y='aluguel');"
   ]
  },
  {
   "cell_type": "code",
   "execution_count": null,
   "id": "4350f4df",
   "metadata": {},
   "outputs": [],
   "source": [
    "#Será que existe relação entre aluguel e quartos?\n",
    "dados.plot.scatter(x='quarto', y='aluguel');"
   ]
  },
  {
   "cell_type": "markdown",
   "id": "fc49dc41",
   "metadata": {},
   "source": [
    "## Uso do seaborn"
   ]
  },
  {
   "cell_type": "code",
   "execution_count": 162,
   "id": "bc552aa5",
   "metadata": {},
   "outputs": [],
   "source": [
    "# Importando seaborn\n",
    "import seaborn as sns"
   ]
  },
  {
   "cell_type": "code",
   "execution_count": null,
   "id": "ea42f30f",
   "metadata": {},
   "outputs": [],
   "source": [
    "# Qual será a média do aluguel entre propriedades próximas e distantes do metrô?\n",
    "sns.boxplot(x='metro_prox',y='aluguel',data=dados)"
   ]
  },
  {
   "cell_type": "code",
   "execution_count": null,
   "id": "89622102",
   "metadata": {},
   "outputs": [],
   "source": [
    "# Podemos avaliar o bairro\n",
    "fig, ax = plt.subplots(figsize=(15,15))\n",
    "sns.boxplot(x='aluguel',y='bairro',data=dados, orient='h')"
   ]
  },
  {
   "cell_type": "code",
   "execution_count": null,
   "id": "d8c5f51a",
   "metadata": {},
   "outputs": [],
   "source": [
    "# Verificando a quantidade de registros em cada bairro\n",
    "dados.bairro.value_counts()"
   ]
  },
  {
   "cell_type": "code",
   "execution_count": null,
   "id": "fca7b23f",
   "metadata": {},
   "outputs": [],
   "source": [
    "# Importando uma base de bairros x regiões\n",
    "regioes = pd.read_excel('bairros.xlsx')\n",
    "display(regioes)"
   ]
  },
  {
   "cell_type": "code",
   "execution_count": 167,
   "id": "f6e4ff3f",
   "metadata": {},
   "outputs": [],
   "source": [
    "#Unindo essas duas base de dados\n",
    "base2 = pd.merge(\n",
    " dados,\n",
    " regioes,\n",
    " how='left',\n",
    " left_on='bairro',right_on='Bairro'\n",
    ")"
   ]
  },
  {
   "cell_type": "code",
   "execution_count": null,
   "id": "e5a5d880",
   "metadata": {},
   "outputs": [],
   "source": [
    "base2.head(3)"
   ]
  },
  {
   "cell_type": "code",
   "execution_count": null,
   "id": "bab78a2b",
   "metadata": {},
   "outputs": [],
   "source": [
    "# Filtrando os valores onde a Região é nula\n",
    "base2[base2.Região.isnull()]"
   ]
  },
  {
   "cell_type": "code",
   "execution_count": null,
   "id": "8528c456",
   "metadata": {},
   "outputs": [],
   "source": [
    "# Verificando se existe Vila Maria na base que importamos\n",
    "regioes[regioes.Bairro == 'Vila Maria']"
   ]
  },
  {
   "cell_type": "code",
   "execution_count": null,
   "id": "334f232d",
   "metadata": {},
   "outputs": [],
   "source": [
    "# Verificando na base 2 apenas o bairro\n",
    "base2.loc[base2.Região.isnull(),'bairro']"
   ]
  },
  {
   "cell_type": "code",
   "execution_count": 172,
   "id": "aa695ebe",
   "metadata": {},
   "outputs": [],
   "source": [
    "# Adicionando a região de Vila Maria a Norte\n",
    "base2.loc[base2.Região.isnull(),'Região'] = 'Norte'"
   ]
  },
  {
   "cell_type": "code",
   "execution_count": 173,
   "id": "ab4b7878",
   "metadata": {},
   "outputs": [],
   "source": [
    "# Corrigindo o nome de Vila Maria\n",
    "base2.loc[base2.bairro == 'Vila Maria ','bairro'] = 'Vila Maria'"
   ]
  },
  {
   "cell_type": "code",
   "execution_count": null,
   "id": "fd33ff13",
   "metadata": {},
   "outputs": [],
   "source": [
    "# Verificando novamente se existe algum valor nulo\n",
    "base2[base2.Região.isnull()]"
   ]
  },
  {
   "cell_type": "code",
   "execution_count": null,
   "id": "17055a82",
   "metadata": {},
   "outputs": [],
   "source": [
    "# Agora podemos traçar o gráfico por região\n",
    "fig, ax = plt.subplots(figsize=(15,15))\n",
    "sns.boxplot(x='aluguel',y='Região',data=base2, orient='h')"
   ]
  },
  {
   "cell_type": "code",
   "execution_count": null,
   "id": "49590a35",
   "metadata": {},
   "outputs": [],
   "source": [
    "#Será que existe relação entre aluguel e metragem para a região oeste?\n",
    "base2[base2.Região == 'Oeste'].plot.scatter(x='metragem', y='aluguel');"
   ]
  },
  {
   "cell_type": "code",
   "execution_count": null,
   "id": "6a9831bd",
   "metadata": {},
   "outputs": [],
   "source": [
    "#Será que existe relação entre aluguel e metragem para a região leste?\n",
    "base2[base2.Região == 'Leste'].plot.scatter(x='metragem', y='aluguel');"
   ]
  },
  {
   "cell_type": "code",
   "execution_count": null,
   "id": "8fe88f52",
   "metadata": {},
   "outputs": [],
   "source": [
    "# Criando um gráfico geral de todas regiões\n",
    "fig, ax = plt.subplots()\n",
    "\n",
    "oeste = base2[base2.Região == 'Oeste']\n",
    "leste = base2[base2.Região == 'Leste']\n",
    "norte = base2[base2.Região == 'Norte']\n",
    "centro = base2[base2.Região == 'Centro']\n",
    "sul = base2[base2.Região == 'Sul']\n",
    "\n",
    "ax.scatter(oeste.aluguel, oeste.metragem, c='b',alpha=0.5, label='oeste')\n",
    "ax.scatter(leste.aluguel, leste.metragem, c='r',alpha=0.5, label='leste')\n",
    "ax.scatter(norte.aluguel, norte.metragem, c='g',alpha=0.5, label='norte')\n",
    "ax.scatter(centro.aluguel, centro.metragem, c='y',alpha=0.5, label='centro')\n",
    "ax.scatter(sul.aluguel, sul.metragem, c='m',alpha=0.5, label='sul')\n",
    "\n",
    "ax.legend()\n",
    "\n",
    "plt.show()"
   ]
  },
  {
   "cell_type": "code",
   "execution_count": null,
   "id": "7eff7f79",
   "metadata": {},
   "outputs": [],
   "source": [
    "# Criando um gráfico para cada região\n",
    "fig, ax = plt.subplots(ncols=3,nrows=2,figsize=(12,7))\n",
    "\n",
    "oeste = base2[base2.Região == 'Oeste']\n",
    "leste = base2[base2.Região == 'Leste']\n",
    "norte = base2[base2.Região == 'Norte']\n",
    "centro = base2[base2.Região == 'Centro']\n",
    "sul = base2[base2.Região == 'Sul']\n",
    "\n",
    "ax[0,0].scatter(oeste.aluguel, oeste.metragem, c='b',alpha=0.5, label='oeste')\n",
    "ax[0,1].scatter(leste.aluguel, leste.metragem, c='r',alpha=0.5, label='leste')\n",
    "ax[0,2].scatter(norte.aluguel, norte.metragem, c='g',alpha=0.5, label='norte')\n",
    "ax[1,0].scatter(centro.aluguel, centro.metragem, c='y',alpha=0.5, label='centro')\n",
    "ax[1,1].scatter(sul.aluguel, sul.metragem, c='m',alpha=0.5, label='sul')\n",
    "\n",
    "ax[0,0].set(xlim=(0, 12000),ylim=(0, 600))\n",
    "ax[0,1].set(xlim=(0, 12000),ylim=(0, 600))\n",
    "ax[0,2].set(xlim=(0, 12000),ylim=(0, 600))\n",
    "ax[1,0].set(xlim=(0, 12000),ylim=(0, 600))\n",
    "ax[1,1].set(xlim=(0, 12000),ylim=(0, 600))\n",
    "\n",
    "ax[0,0].set_title('oeste')\n",
    "ax[0,1].set_title('leste')\n",
    "ax[0,2].set_title('norte')\n",
    "ax[1,0].set_title('centro')\n",
    "ax[1,1].set_title('sul')\n",
    "\n",
    "plt.show()"
   ]
  },
  {
   "cell_type": "markdown",
   "id": "3afdc2fa",
   "metadata": {},
   "source": [
    "**Existe alguma relação entre as variáveis**"
   ]
  },
  {
   "cell_type": "code",
   "execution_count": null,
   "id": "66cb22bf",
   "metadata": {},
   "outputs": [],
   "source": [
    "base2 = base2.drop(['bairro','Bairro','Região'],axis=1)\n",
    "base2.head()"
   ]
  },
  {
   "cell_type": "code",
   "execution_count": null,
   "id": "b817df01",
   "metadata": {},
   "outputs": [],
   "source": [
    "# Verificando se há correlação da base de dados\n",
    "base2.corr()"
   ]
  },
  {
   "cell_type": "code",
   "execution_count": null,
   "id": "537cb352",
   "metadata": {},
   "outputs": [],
   "source": [
    "# Tornando a correlação mais visual usando o seaborn\n",
    "fig, ax = plt.subplots(figsize=(12,7))\n",
    "sns.heatmap(base2.corr(), annot=True, cmap='RdYlGn')\n",
    "plt.show()"
   ]
  },
  {
   "cell_type": "code",
   "execution_count": null,
   "id": "84d2d523",
   "metadata": {},
   "outputs": [],
   "source": [
    "# Podemos verificar graficamente a relação entre algumas variáveis\n",
    "base3 = dados[['aluguel', 'condominio', 'iptu', 'taxa_serviço','total']]\n",
    "sns.pairplot(base3)"
   ]
  },
  {
   "cell_type": "code",
   "execution_count": null,
   "id": "1b36571b",
   "metadata": {},
   "outputs": [],
   "source": [
    "# Verificandp o outlier do total\n",
    "dados.total.max()"
   ]
  },
  {
   "cell_type": "code",
   "execution_count": null,
   "id": "3fc7f70f",
   "metadata": {},
   "outputs": [],
   "source": [
    "# Filtrando essa linha da base de dados\n",
    "dados[dados.total == dados.total.max()]"
   ]
  },
  {
   "cell_type": "code",
   "execution_count": 186,
   "id": "eda1aa5d",
   "metadata": {},
   "outputs": [],
   "source": [
    "# Importando a base de dados novamente para verificar a informação\n",
    "verificar = pd.read_csv('quinto_andar_transformed_data.csv')"
   ]
  },
  {
   "cell_type": "code",
   "execution_count": null,
   "id": "9e2d043b",
   "metadata": {},
   "outputs": [],
   "source": [
    "# Encontrando o valor de maior iptu\n",
    "verificar[verificar.iptu == verificar.iptu.max()]"
   ]
  },
  {
   "cell_type": "code",
   "execution_count": null,
   "id": "e4073b88",
   "metadata": {},
   "outputs": [],
   "source": [
    "# Tratando o valor errado\n",
    "verificar.url[1707]"
   ]
  },
  {
   "cell_type": "code",
   "execution_count": 189,
   "id": "8b825288",
   "metadata": {},
   "outputs": [],
   "source": [
    "# Trocando o valor errado pelo correto\n",
    "dados.loc[dados.iptu == dados.iptu.max(), 'iptu'] = 495.8"
   ]
  },
  {
   "cell_type": "code",
   "execution_count": 190,
   "id": "2104e8dc",
   "metadata": {},
   "outputs": [],
   "source": [
    "dados.loc[dados.total == dados.total.max(), 'total'] = 4227.8"
   ]
  },
  {
   "cell_type": "code",
   "execution_count": null,
   "id": "6348b7d8",
   "metadata": {},
   "outputs": [],
   "source": [
    "dados.head()"
   ]
  },
  {
   "cell_type": "code",
   "execution_count": null,
   "id": "bfcb2821",
   "metadata": {},
   "outputs": [],
   "source": [
    "#Fazendo novamente\n",
    "base2 = dados.drop('bairro', axis=1)\n",
    "# Tornando a correlação mais visual usando o seaborn\n",
    "fig, ax = plt.subplots(figsize=(12,7))\n",
    "sns.heatmap(base2.corr(), annot=True, cmap='RdYlGn')\n",
    "plt.show()"
   ]
  },
  {
   "cell_type": "code",
   "execution_count": null,
   "id": "c10483ba",
   "metadata": {},
   "outputs": [],
   "source": [
    "# Fazendo novamente\n",
    "# Podemos verificar graficamente a relação entre algumas variáveis\n",
    "base3 = dados[['aluguel', 'condominio', 'iptu', 'taxa_serviço','total']]\n",
    "sns.pairplot(base3);"
   ]
  },
  {
   "cell_type": "markdown",
   "id": "55ecc139",
   "metadata": {},
   "source": [
    "# TRATAMENTO DE DADOS"
   ]
  },
  {
   "cell_type": "code",
   "execution_count": null,
   "id": "5552d402",
   "metadata": {},
   "outputs": [],
   "source": [
    "# Visualizando novamente a base de dados\n",
    "dados = base2\n",
    "dados.head(3)"
   ]
  },
  {
   "cell_type": "code",
   "execution_count": 198,
   "id": "3a17704f",
   "metadata": {},
   "outputs": [],
   "source": [
    "# Verificando a taxa de serviço\n",
    "dados['taxa_ser'] = round((dados.taxa_serviço/dados.aluguel)*100,2)"
   ]
  },
  {
   "cell_type": "code",
   "execution_count": null,
   "id": "afe2bc90",
   "metadata": {},
   "outputs": [],
   "source": [
    "# Contando os valores\n",
    "dados.taxa_ser.value_counts()"
   ]
  },
  {
   "cell_type": "code",
   "execution_count": 200,
   "id": "2ebcb887",
   "metadata": {},
   "outputs": [],
   "source": [
    "# Verificando o mesmo para seguro incêndio\n",
    "dados['taxa_inc'] = round((dados.seguro_incendio/dados.aluguel)*100,2)"
   ]
  },
  {
   "cell_type": "code",
   "execution_count": null,
   "id": "2dadcee0",
   "metadata": {},
   "outputs": [],
   "source": [
    "# Contando os valores\n",
    "dados.taxa_inc.value_counts()"
   ]
  },
  {
   "cell_type": "markdown",
   "id": "9a5fc8f5",
   "metadata": {},
   "source": [
    "A taxa de serviço e o seguro incêndio são percentuais do aluguel, então para ter a taxa é necessário primeiro ter o valor do aluguel.\n",
    "Da mesma forma o total também é a soma dos valores já apresentados então colocar o total seria repetir informação."
   ]
  },
  {
   "cell_type": "code",
   "execution_count": 202,
   "id": "eb63fbaa",
   "metadata": {},
   "outputs": [],
   "source": [
    "# Podemos então apagar essa coluna e a coluna que calculamos o percentual\n",
    "dados = dados.drop(['taxa_serviço', 'taxa_ser', 'seguro_incendio','taxa_inc','total'], axis=1)"
   ]
  },
  {
   "cell_type": "code",
   "execution_count": 203,
   "id": "334d0b9a",
   "metadata": {},
   "outputs": [],
   "source": [
    "# Fazendo a mesma lógica para o Iptu\n",
    "dados['taxa_iptu'] = round((dados.iptu/dados.aluguel),2)"
   ]
  },
  {
   "cell_type": "code",
   "execution_count": null,
   "id": "d1a15495",
   "metadata": {},
   "outputs": [],
   "source": [
    "# Contando os valores\n",
    "dados.taxa_iptu.value_counts()"
   ]
  },
  {
   "cell_type": "code",
   "execution_count": 205,
   "id": "c4f190f0",
   "metadata": {},
   "outputs": [],
   "source": [
    "# Mantemos a coluna de iptu, mas retiramos a taxa que usamos para comparar\n",
    "dados = dados.drop('taxa_iptu', axis=1)"
   ]
  },
  {
   "cell_type": "code",
   "execution_count": null,
   "id": "5324a708",
   "metadata": {},
   "outputs": [],
   "source": [
    "# Buscando e verificando a base novamente\n",
    "dados.head(3)"
   ]
  },
  {
   "cell_type": "code",
   "execution_count": null,
   "id": "ea42f231",
   "metadata": {},
   "outputs": [],
   "source": [
    "# Verificando as informações da base\n",
    "dados.info()"
   ]
  },
  {
   "cell_type": "code",
   "execution_count": null,
   "id": "872caee6",
   "metadata": {},
   "outputs": [],
   "source": [
    "# Apagando a coluna bairro\n",
    "dados = dados.drop(['bairro','Bairro'], axis=1)"
   ]
  },
  {
   "cell_type": "code",
   "execution_count": null,
   "id": "b1d7a8b1",
   "metadata": {},
   "outputs": [],
   "source": [
    "# Utilizando o get_dummies\n",
    "pd.get_dummies(dados.Região)"
   ]
  },
  {
   "cell_type": "code",
   "execution_count": 234,
   "id": "dc56bf31",
   "metadata": {},
   "outputs": [],
   "source": [
    "# Utilizando o concat\n",
    "dados = pd.concat([dados,pd.get_dummies(dados.Região)], axis=1)"
   ]
  },
  {
   "cell_type": "code",
   "execution_count": null,
   "id": "b1ed792b",
   "metadata": {},
   "outputs": [],
   "source": [
    "dados.head()"
   ]
  },
  {
   "cell_type": "code",
   "execution_count": 236,
   "id": "5c5f4b84",
   "metadata": {},
   "outputs": [],
   "source": [
    "# Podemos então apagar a única variável que está como texto\n",
    "dados = dados.drop('Região', axis=1)"
   ]
  },
  {
   "cell_type": "markdown",
   "id": "aa717afd",
   "metadata": {},
   "source": [
    "**Voltamos nesse processo sempre que necessário durante a criação do modelo!**"
   ]
  },
  {
   "cell_type": "markdown",
   "id": "958016d5",
   "metadata": {},
   "source": [
    "#  Definição de modelo"
   ]
  },
  {
   "cell_type": "markdown",
   "id": "5727a4bd",
   "metadata": {},
   "source": [
    "**Aprendizado Supervisionado**: temos exemplos com resultados(rótulos/labels), do que queremos prever.\n",
    "\n",
    "- **Regressão**: Prever um valor numérico contínuo\n",
    " - Exemplo: Prever o valor de uma casa, do aluguel, a quantidade de vendas...\n",
    " \n",
    "- **Classificação**: Prever uma classe\n",
    " - Exemplo: Prever se a fruta é banana ou maçã, se uma transação é fraude, se a pessoa possuí ou não uma doença...\n",
    " \n",
    "- Se não temos os valores dos resultados e queremos descobrir apenas estruturas padrões semelhantes, temos um problema de **aprendizado não supervisionado**.\n",
    " - Exemplo: Agrupar clientes, definir cesta de produtos, agrupar frutas sem saber qual é a maça ou banana...\n",
    " "
   ]
  },
  {
   "cell_type": "markdown",
   "id": "24c3b4de",
   "metadata": {},
   "source": [
    "**Antes de definir o modelo, o primeiro passo é separar os nossos dados em treino e teste**\n",
    "\n",
    "Esta etapa é extremamente importante  pois vamos precisar **avaliar a qualidade do nosso modelo**\n",
    "\n",
    "**Vamos utilizar o train_test_split do próprio Scikit_Learn**"
   ]
  },
  {
   "cell_type": "code",
   "execution_count": 240,
   "id": "669ffd99",
   "metadata": {},
   "outputs": [],
   "source": [
    "# Primeiramente vamos separar o que são nossas variáveis preditoras(x, que vamos usar para fazer) e a variável alvo(que queremos prever, o y)\n",
    "base = dados\n",
    "x = base.drop('aluguel', axis=1)\n",
    "y = base.aluguel"
   ]
  },
  {
   "cell_type": "code",
   "execution_count": 239,
   "id": "63e10e3d",
   "metadata": {},
   "outputs": [],
   "source": [
    "# Importando o train_test_split\n",
    "from sklearn.model_selection import train_test_split"
   ]
  },
  {
   "cell_type": "code",
   "execution_count": 241,
   "id": "b4bb3a3c",
   "metadata": {},
   "outputs": [],
   "source": [
    "x_train, x_test, y_train, y_test = train_test_split(x,y, test_size=0.3, random_state=42)"
   ]
  },
  {
   "cell_type": "code",
   "execution_count": null,
   "id": "e4efc2c0",
   "metadata": {},
   "outputs": [],
   "source": [
    "x_train.head(3)"
   ]
  },
  {
   "cell_type": "markdown",
   "id": "4c13b3a2",
   "metadata": {},
   "source": [
    "### Depois de separar a base de treino e teste, podemos usar a base de treino para criar nosso modelo usando diferentes algoritmos"
   ]
  },
  {
   "cell_type": "markdown",
   "id": "9791fd75",
   "metadata": {},
   "source": [
    "**Usando Regressão linear**"
   ]
  },
  {
   "cell_type": "code",
   "execution_count": 2,
   "id": "23f8edb8",
   "metadata": {},
   "outputs": [],
   "source": [
    "# Importando a regressão linear\n",
    "from sklearn.linear_model import LinearRegression"
   ]
  },
  {
   "cell_type": "code",
   "execution_count": 246,
   "id": "ccc00e55",
   "metadata": {},
   "outputs": [],
   "source": [
    "# Treinando o nosso modelo\n",
    "reg = LinearRegression().fit(x_train, y_train)"
   ]
  },
  {
   "cell_type": "code",
   "execution_count": null,
   "id": "4919760f",
   "metadata": {},
   "outputs": [],
   "source": [
    "# Avaliando o ajuste do modelo aos dados de Treino\n",
    "reg.score(x_train, y_train)"
   ]
  },
  {
   "cell_type": "code",
   "execution_count": 5,
   "id": "414acdd9",
   "metadata": {},
   "outputs": [],
   "source": [
    "# Importando o erro médio absoluto\n",
    "from sklearn.metrics import mean_absolute_error"
   ]
  },
  {
   "cell_type": "code",
   "execution_count": 249,
   "id": "1ce0d041",
   "metadata": {},
   "outputs": [],
   "source": [
    "# Fazendo a previsão com o modelo anterior\n",
    "y_pred = reg.predict(x_test)"
   ]
  },
  {
   "cell_type": "code",
   "execution_count": null,
   "id": "f9ac3b12",
   "metadata": {},
   "outputs": [],
   "source": [
    "# Avaliando o erro para a regressão linear\n",
    "mean_absolute_error(y_test, y_pred)"
   ]
  },
  {
   "cell_type": "code",
   "execution_count": null,
   "id": "5b75c838",
   "metadata": {},
   "outputs": [],
   "source": [
    "# Visualizando a diferença graficamente\n",
    "\n",
    "fig, ax = plt.subplots(figsize=(8,8))\n",
    "\n",
    "ax.scatter(y_test, y_pred)\n",
    "ax.plot([0,10000],[0,10000])\n",
    "\n",
    "plt.show()"
   ]
  },
  {
   "cell_type": "code",
   "execution_count": 257,
   "id": "2d151e07",
   "metadata": {},
   "outputs": [],
   "source": [
    "# Importando a árvore de decisão\n",
    "from sklearn import tree"
   ]
  },
  {
   "cell_type": "code",
   "execution_count": 258,
   "id": "32217ba7",
   "metadata": {},
   "outputs": [],
   "source": [
    "# Criando o regressor\n",
    "regtree = tree.DecisionTreeRegressor()"
   ]
  },
  {
   "cell_type": "code",
   "execution_count": 259,
   "id": "aebfcd52",
   "metadata": {},
   "outputs": [],
   "source": [
    "# Fazendo o fit do modelo\n",
    "regtree = regtree.fit(x_train, y_train)"
   ]
  },
  {
   "cell_type": "code",
   "execution_count": null,
   "id": "18caf7de",
   "metadata": {},
   "outputs": [],
   "source": [
    "# Avaliando o ajuste do modelo aos dados de Treino\n",
    "regtree.score(x_train, y_train)"
   ]
  },
  {
   "cell_type": "code",
   "execution_count": 261,
   "id": "2a978e08",
   "metadata": {},
   "outputs": [],
   "source": [
    "# Fazendo a previsão\n",
    "y_predtree = regtree.predict(x_test)"
   ]
  },
  {
   "cell_type": "code",
   "execution_count": null,
   "id": "60f98633",
   "metadata": {},
   "outputs": [],
   "source": [
    "# Avaliando o erro para árvore de decisão\n",
    "mean_absolute_error(y_test, y_predtree)"
   ]
  },
  {
   "cell_type": "code",
   "execution_count": null,
   "id": "cbb1b228",
   "metadata": {},
   "outputs": [],
   "source": [
    "# Visualizando a diferença graficamente\n",
    "\n",
    "fig, ax = plt.subplots(figsize=(8,8))\n",
    "\n",
    "ax.scatter(y_test, y_predtree)\n",
    "ax.scatter(y_test, y_pred)\n",
    "ax.plot([0,10000],[0,10000])\n",
    "\n",
    "plt.show()"
   ]
  },
  {
   "cell_type": "code",
   "execution_count": 6,
   "id": "bb50a176",
   "metadata": {},
   "outputs": [],
   "source": [
    "# Importando o erro quadrático médio\n",
    "from sklearn.metrics import mean_squared_error\n",
    "# Importando o erro quadrático médio\n",
    "from sklearn.metrics import root_mean_squared_error"
   ]
  },
  {
   "cell_type": "code",
   "execution_count": null,
   "id": "3ac6aeaa",
   "metadata": {},
   "outputs": [],
   "source": [
    "# Avaliando para regressão\n",
    "mean_squared_error(y_test, y_pred)"
   ]
  },
  {
   "cell_type": "code",
   "execution_count": null,
   "id": "25d3b8bf",
   "metadata": {},
   "outputs": [],
   "source": [
    "# Avaliando para árvore\n",
    "mean_squared_error(y_test, y_predtree)"
   ]
  },
  {
   "cell_type": "markdown",
   "id": "2296586b",
   "metadata": {},
   "source": [
    "**Tentando criar uma nova árvore de decisão**"
   ]
  },
  {
   "cell_type": "code",
   "execution_count": 309,
   "id": "8d6acf61",
   "metadata": {},
   "outputs": [],
   "source": [
    "# Criando uma nova árvore de decisão\n",
    "regtree2 = tree.DecisionTreeRegressor(random_state=20,criterion='absolute_error', max_depth=5)"
   ]
  },
  {
   "cell_type": "code",
   "execution_count": 310,
   "id": "92178bcf",
   "metadata": {},
   "outputs": [],
   "source": [
    "# Fazendo o fit do modelo\n",
    "regtree2 = regtree2.fit(x_train, y_train)"
   ]
  },
  {
   "cell_type": "code",
   "execution_count": 311,
   "id": "c81238bf",
   "metadata": {},
   "outputs": [],
   "source": [
    "# Fazendo a previsão\n",
    "y_predtree2 = regtree2.predict(x_test)"
   ]
  },
  {
   "cell_type": "code",
   "execution_count": null,
   "id": "fbb887fb",
   "metadata": {},
   "outputs": [],
   "source": [
    "# Avaliando o erro para árvore de decisão\n",
    "mean_absolute_error(y_test, y_predtree2)"
   ]
  },
  {
   "cell_type": "code",
   "execution_count": null,
   "id": "5c790ebf",
   "metadata": {},
   "outputs": [],
   "source": [
    "# Visualizando a diferença graficamente\n",
    "\n",
    "fig, ax = plt.subplots(figsize=(8,8))\n",
    "\n",
    "ax.scatter(y_test, y_pred, alpha=0.5)\n",
    "ax.scatter(y_test, y_predtree, alpha=0.5)\n",
    "ax.scatter(y_test, y_predtree2, alpha=0.5)\n",
    "\n",
    "ax.plot([0,10000],[0,10000])\n",
    "\n",
    "plt.show()"
   ]
  },
  {
   "cell_type": "code",
   "execution_count": 314,
   "id": "fbddfb06",
   "metadata": {},
   "outputs": [],
   "source": [
    "# Utilizando o SUPPORT VECTOR REGRESSION\n",
    "from sklearn.svm import SVR"
   ]
  },
  {
   "cell_type": "code",
   "execution_count": null,
   "id": "ddbddafd",
   "metadata": {},
   "outputs": [],
   "source": [
    "# Fazendo a previsão\n",
    "regsvr = SVR()\n",
    "regsvr = regsvr.fit(x_train, y_train)\n",
    "y_predsvr = regsvr.predict(x_test)\n",
    "mean_absolute_error(y_test, y_predsvr)"
   ]
  },
  {
   "cell_type": "code",
   "execution_count": 317,
   "id": "9ed97bc1",
   "metadata": {},
   "outputs": [],
   "source": [
    "# Random Forest Regression\n",
    "from sklearn.ensemble import RandomForestRegressor"
   ]
  },
  {
   "cell_type": "code",
   "execution_count": null,
   "id": "5c156d32",
   "metadata": {
    "scrolled": true
   },
   "outputs": [],
   "source": [
    "# Treinando o modelo\n",
    "regr = RandomForestRegressor(max_depth=50, random_state=0)\n",
    "regr.fit(x_train, y_train)\n",
    "y_predRF = regr.predict(x_test)"
   ]
  },
  {
   "cell_type": "code",
   "execution_count": null,
   "metadata": {},
   "outputs": [],
   "source": [
    "#Avaliando as métricas do modelo\n",
    "mse = mean_absolute_error(y_test, y_predRF)\n",
    "rmse = root_mean_squared_error(y_test, y_predRF)\n",
    "print('MSE: ', mse)\n",
    "print('RMSE: ', rmse)"
   ]
  },
  {
   "cell_type": "code",
   "execution_count": null,
   "id": "2d8cab5b",
   "metadata": {},
   "outputs": [],
   "source": [
    "# Visualizando a diferença graficamente\n",
    "\n",
    "fig, ax = plt.subplots(figsize=(8,8))\n",
    "\n",
    "ax.scatter(y_test, y_pred, alpha=0.5, label='Reg')\n",
    "ax.scatter(y_test, y_predtree, alpha=0.5, label='Arvore1')\n",
    "ax.scatter(y_test, y_predtree2, alpha=0.5, label='Arvore2')\n",
    "ax.scatter(y_test, y_predRF, alpha=0.5, label='Random Forest')\n",
    "\n",
    "ax.plot([0,10000],[0,10000])\n",
    "\n",
    "ax.legend()\n",
    "\n",
    "plt.show()"
   ]
  },
  {
   "cell_type": "markdown",
   "id": "623da233",
   "metadata": {},
   "source": [
    "# Modelo em produção\n",
    "\n",
    "Persistir o modelo"
   ]
  },
  {
   "cell_type": "code",
   "execution_count": 347,
   "id": "ec0ca736",
   "metadata": {},
   "outputs": [],
   "source": [
    "# Importando o dump do joblib\n",
    "from joblib import dump"
   ]
  },
  {
   "cell_type": "code",
   "execution_count": null,
   "id": "6992dab1",
   "metadata": {},
   "outputs": [],
   "source": [
    "# Fazendo o dump do modelo que queremos usar\n",
    "dump(regr, 'regressor.joblib')"
   ]
  },
  {
   "cell_type": "code",
   "execution_count": null,
   "id": "dcebd8dd",
   "metadata": {},
   "outputs": [],
   "source": [
    "x_test.columns"
   ]
  }
 ],
 "metadata": {
  "kernelspec": {
   "display_name": ".venv",
   "language": "python",
   "name": "python3"
  },
  "language_info": {
   "codemirror_mode": {
    "name": "ipython",
    "version": 3
   },
   "file_extension": ".py",
   "mimetype": "text/x-python",
   "name": "python",
   "nbconvert_exporter": "python",
   "pygments_lexer": "ipython3",
   "version": "3.13.1"
  }
 },
 "nbformat": 4,
 "nbformat_minor": 5
}
